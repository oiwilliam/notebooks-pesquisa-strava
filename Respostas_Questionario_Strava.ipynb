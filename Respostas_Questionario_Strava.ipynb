{
  "nbformat": 4,
  "nbformat_minor": 0,
  "metadata": {
    "colab": {
      "name": "Respostas Questionario Strava.ipynb",
      "provenance": [],
      "collapsed_sections": [],
      "mount_file_id": "1QtM-sSqpjIpuOvpa6ZRNCnMkBFGbOjHc",
      "authorship_tag": "ABX9TyNfynjT4KPkUrygClsKCwHL"
    },
    "kernelspec": {
      "name": "python3",
      "display_name": "Python 3"
    }
  },
  "cells": [
    {
      "cell_type": "markdown",
      "metadata": {
        "id": "2EMFfXtkW-WA",
        "colab_type": "text"
      },
      "source": [
        "## Instalando o ambiente necessário"
      ]
    },
    {
      "cell_type": "code",
      "metadata": {
        "id": "1_nG8x-U8ShV",
        "colab_type": "code",
        "outputId": "e25d7703-de04-4f16-e827-e6c58b2ea6b9",
        "colab": {
          "base_uri": "https://localhost:8080/",
          "height": 343
        }
      },
      "source": [
        "!pip install powerlaw"
      ],
      "execution_count": 27,
      "outputs": [
        {
          "output_type": "stream",
          "text": [
            "Collecting powerlaw\n",
            "  Downloading https://files.pythonhosted.org/packages/d5/4e/3ceab890fafff8e78a5fd7f5340c232c38b21d181fcd32d7a31079db3646/powerlaw-1.4.6.tar.gz\n",
            "Requirement already satisfied: scipy in /usr/local/lib/python3.6/dist-packages (from powerlaw) (1.4.1)\n",
            "Requirement already satisfied: numpy in /usr/local/lib/python3.6/dist-packages (from powerlaw) (1.18.4)\n",
            "Requirement already satisfied: matplotlib in /usr/local/lib/python3.6/dist-packages (from powerlaw) (3.2.1)\n",
            "Requirement already satisfied: mpmath in /usr/local/lib/python3.6/dist-packages (from powerlaw) (1.1.0)\n",
            "Requirement already satisfied: pyparsing!=2.0.4,!=2.1.2,!=2.1.6,>=2.0.1 in /usr/local/lib/python3.6/dist-packages (from matplotlib->powerlaw) (2.4.7)\n",
            "Requirement already satisfied: kiwisolver>=1.0.1 in /usr/local/lib/python3.6/dist-packages (from matplotlib->powerlaw) (1.2.0)\n",
            "Requirement already satisfied: python-dateutil>=2.1 in /usr/local/lib/python3.6/dist-packages (from matplotlib->powerlaw) (2.8.1)\n",
            "Requirement already satisfied: cycler>=0.10 in /usr/local/lib/python3.6/dist-packages (from matplotlib->powerlaw) (0.10.0)\n",
            "Requirement already satisfied: six>=1.5 in /usr/local/lib/python3.6/dist-packages (from python-dateutil>=2.1->matplotlib->powerlaw) (1.12.0)\n",
            "Building wheels for collected packages: powerlaw\n",
            "  Building wheel for powerlaw (setup.py) ... \u001b[?25l\u001b[?25hdone\n",
            "  Created wheel for powerlaw: filename=powerlaw-1.4.6-cp36-none-any.whl size=24787 sha256=8a524ecd1f354589fc372bf21c047c5f165d152488b80446f68c27ec1d8a2121\n",
            "  Stored in directory: /root/.cache/pip/wheels/e0/27/02/08d0e2865072bfd8d7c655e290521e3feca3fc22f1ac460601\n",
            "Successfully built powerlaw\n",
            "Installing collected packages: powerlaw\n",
            "Successfully installed powerlaw-1.4.6\n"
          ],
          "name": "stdout"
        }
      ]
    },
    {
      "cell_type": "code",
      "metadata": {
        "id": "e6MgKQ9O65nL",
        "colab_type": "code",
        "colab": {
          "base_uri": "https://localhost:8080/",
          "height": 85
        },
        "outputId": "6fdd7839-e350-4e39-9bef-e81860caa643"
      },
      "source": [
        "!curl https://packages.microsoft.com/keys/microsoft.asc | apt-key add -"
      ],
      "execution_count": 1,
      "outputs": [
        {
          "output_type": "stream",
          "text": [
            "  % Total    % Received % Xferd  Average Speed   Time    Time     Time  Current\n",
            "                                 Dload  Upload   Total   Spent    Left  Speed\n",
            "\r  0     0    0     0    0     0      0      0 --:--:-- --:--:-- --:--:--     0\r100   983  100   983    0     0  11843      0 --:--:-- --:--:-- --:--:-- 11843\n",
            "OK\n"
          ],
          "name": "stdout"
        }
      ]
    },
    {
      "cell_type": "code",
      "metadata": {
        "id": "p_jgxrn-DLFI",
        "colab_type": "code",
        "colab": {
          "base_uri": "https://localhost:8080/",
          "height": 68
        },
        "outputId": "55338ba5-36b7-4c10-a1d9-9516d1086684"
      },
      "source": [
        "!curl https://packages.microsoft.com/config/ubuntu/18.04/prod.list > /etc/apt/sources.list.d/mssql-release.list\n"
      ],
      "execution_count": 15,
      "outputs": [
        {
          "output_type": "stream",
          "text": [
            "  % Total    % Received % Xferd  Average Speed   Time    Time     Time  Current\n",
            "                                 Dload  Upload   Total   Spent    Left  Speed\n",
            "\r  0     0    0     0    0     0      0      0 --:--:-- --:--:-- --:--:--     0\r100    77  100    77    0     0   1166      0 --:--:-- --:--:-- --:--:--  1166\n"
          ],
          "name": "stdout"
        }
      ]
    },
    {
      "cell_type": "code",
      "metadata": {
        "id": "AjVB1kfhDS66",
        "colab_type": "code",
        "colab": {
          "base_uri": "https://localhost:8080/",
          "height": 272
        },
        "outputId": "927d9022-6fe7-4409-fb8f-517e71591e46"
      },
      "source": [
        "!apt-get update"
      ],
      "execution_count": 16,
      "outputs": [
        {
          "output_type": "stream",
          "text": [
            "\r0% [Working]\r            \rHit:1 http://ppa.launchpad.net/graphics-drivers/ppa/ubuntu bionic InRelease\n",
            "\r0% [Waiting for headers] [Connecting to security.ubuntu.com (91.189.91.39)] [Co\r                                                                               \rHit:2 http://archive.ubuntu.com/ubuntu bionic InRelease\n",
            "\r0% [Waiting for headers] [Connecting to security.ubuntu.com (91.189.91.39)] [Co\r0% [1 InRelease gpgv 21.3 kB] [Waiting for headers] [Connecting to security.ubu\r                                                                               \rGet:3 http://archive.ubuntu.com/ubuntu bionic-updates InRelease [88.7 kB]\n",
            "\r0% [1 InRelease gpgv 21.3 kB] [3 InRelease 2,602 B/88.7 kB 3%] [Connecting to s\r                                                                               \rHit:4 http://ppa.launchpad.net/marutter/c2d4u3.5/ubuntu bionic InRelease\n",
            "\r0% [1 InRelease gpgv 21.3 kB] [3 InRelease 8,394 B/88.7 kB 9%] [Connecting to s\r                                                                               \rGet:5 https://packages.microsoft.com/ubuntu/18.04/prod bionic InRelease [4,002 B]\n",
            "\r0% [1 InRelease gpgv 21.3 kB] [3 InRelease 76.5 kB/88.7 kB 86%] [Connecting to \r0% [1 InRelease gpgv 21.3 kB] [3 InRelease 76.5 kB/88.7 kB 86%] [Connecting to \r0% [1 InRelease gpgv 21.3 kB] [Waiting for headers] [Connecting to security.ubu\r                                                                               \rGet:6 http://archive.ubuntu.com/ubuntu bionic-backports InRelease [74.6 kB]\n",
            "\r0% [1 InRelease gpgv 21.3 kB] [6 InRelease 11.3 kB/74.6 kB 15%] [Waiting for he\r0% [1 InRelease gpgv 21.3 kB] [Waiting for headers] [Connecting to cloud.r-proj\r                                                                               \rGet:7 http://security.ubuntu.com/ubuntu bionic-security InRelease [88.7 kB]\n",
            "\r0% [1 InRelease gpgv 21.3 kB] [7 InRelease 2,586 B/88.7 kB 3%] [Connected to cl\r                                                                               \rIgn:8 https://developer.download.nvidia.com/compute/cuda/repos/ubuntu1804/x86_64  InRelease\n",
            "\r0% [1 InRelease gpgv 21.3 kB] [7 InRelease 14.2 kB/88.7 kB 16%] [Waiting for he\r                                                                               \rHit:9 https://cloud.r-project.org/bin/linux/ubuntu bionic-cran35/ InRelease\n",
            "\r0% [1 InRelease gpgv 21.3 kB] [7 InRelease 14.2 kB/88.7 kB 16%] [Waiting for he\r                                                                               \r0% [7 InRelease 14.2 kB/88.7 kB 16%] [Waiting for headers]\r0% [2 InRelease gpgv 242 kB] [7 InRelease 14.2 kB/88.7 kB 16%] [Waiting for hea\r                                                                               \rIgn:10 https://developer.download.nvidia.com/compute/machine-learning/repos/ubuntu1804/x86_64  InRelease\n",
            "\r                                                                               \r0% [2 InRelease gpgv 242 kB] [7 InRelease 60.5 kB/88.7 kB 68%]\r                                                              \rHit:11 https://developer.download.nvidia.com/compute/cuda/repos/ubuntu1804/x86_64  Release\n",
            "Hit:12 https://developer.download.nvidia.com/compute/machine-learning/repos/ubuntu1804/x86_64  Release\n",
            "Get:13 https://packages.microsoft.com/ubuntu/18.04/prod bionic/main amd64 Packages [119 kB]\n",
            "Fetched 375 kB in 2s (191 kB/s)\n",
            "Reading package lists... Done\n"
          ],
          "name": "stdout"
        }
      ]
    },
    {
      "cell_type": "code",
      "metadata": {
        "id": "ASLClL85FoAZ",
        "colab_type": "code",
        "colab": {
          "base_uri": "https://localhost:8080/",
          "height": 221
        },
        "outputId": "d81e359c-2d43-4467-abc1-86e1c2f1d7ea"
      },
      "source": [
        "#!apt-get remove msodbcsql17"
      ],
      "execution_count": 13,
      "outputs": [
        {
          "output_type": "stream",
          "text": [
            "Reading package lists... Done\n",
            "Building dependency tree       \n",
            "Reading state information... Done\n",
            "The following package was automatically installed and is no longer required:\n",
            "  unixodbc\n",
            "Use 'apt autoremove' to remove it.\n",
            "The following packages will be REMOVED:\n",
            "  msodbcsql17\n",
            "0 upgraded, 0 newly installed, 1 to remove and 35 not upgraded.\n",
            "After this operation, 0 B of additional disk space will be used.\n",
            "(Reading database ... 144424 files and directories currently installed.)\n",
            "Removing msodbcsql17 (17.5.2.1-1) ...\n"
          ],
          "name": "stdout"
        }
      ]
    },
    {
      "cell_type": "code",
      "metadata": {
        "id": "Nl5sjERdGKTG",
        "colab_type": "code",
        "colab": {
          "base_uri": "https://localhost:8080/",
          "height": 187
        },
        "outputId": "8548920e-3cea-45ab-ace2-a8a6001ae1d5"
      },
      "source": [
        "#!apt autoremove"
      ],
      "execution_count": 14,
      "outputs": [
        {
          "output_type": "stream",
          "text": [
            "Reading package lists... Done\n",
            "Building dependency tree       \n",
            "Reading state information... Done\n",
            "The following packages will be REMOVED:\n",
            "  unixodbc\n",
            "0 upgraded, 0 newly installed, 1 to remove and 35 not upgraded.\n",
            "After this operation, 114 kB disk space will be freed.\n",
            "(Reading database ... 144407 files and directories currently installed.)\n",
            "Removing unixodbc (2.3.7) ...\n",
            "Processing triggers for man-db (2.8.3-2ubuntu0.1) ...\n"
          ],
          "name": "stdout"
        }
      ]
    },
    {
      "cell_type": "code",
      "metadata": {
        "id": "VAXE8HFxDW8Q",
        "colab_type": "code",
        "colab": {
          "base_uri": "https://localhost:8080/",
          "height": 425
        },
        "outputId": "7b721b35-fd01-40ac-bd5e-426d6e43079a"
      },
      "source": [
        "!ACCEPT_EULA=Y apt-get install msodbcsql17"
      ],
      "execution_count": 17,
      "outputs": [
        {
          "output_type": "stream",
          "text": [
            "Reading package lists... Done\n",
            "Building dependency tree       \n",
            "Reading state information... Done\n",
            "The following additional packages will be installed:\n",
            "  unixodbc\n",
            "The following NEW packages will be installed:\n",
            "  msodbcsql17 unixodbc\n",
            "0 upgraded, 2 newly installed, 0 to remove and 35 not upgraded.\n",
            "Need to get 775 kB of archives.\n",
            "After this operation, 114 kB of additional disk space will be used.\n",
            "Get:1 https://packages.microsoft.com/ubuntu/18.04/prod bionic/main amd64 unixodbc amd64 2.3.7 [19.6 kB]\n",
            "Get:2 https://packages.microsoft.com/ubuntu/18.04/prod bionic/main amd64 msodbcsql17 amd64 17.5.2.1-1 [755 kB]\n",
            "Fetched 775 kB in 0s (9,119 kB/s)\n",
            "Preconfiguring packages ...\n",
            "Selecting previously unselected package unixodbc.\n",
            "(Reading database ... 144402 files and directories currently installed.)\n",
            "Preparing to unpack .../unixodbc_2.3.7_amd64.deb ...\n",
            "Unpacking unixodbc (2.3.7) ...\n",
            "Selecting previously unselected package msodbcsql17.\n",
            "Preparing to unpack .../msodbcsql17_17.5.2.1-1_amd64.deb ...\n",
            "Unpacking msodbcsql17 (17.5.2.1-1) ...\n",
            "Setting up unixodbc (2.3.7) ...\n",
            "Setting up msodbcsql17 (17.5.2.1-1) ...\n",
            "Processing triggers for man-db (2.8.3-2ubuntu0.1) ...\n"
          ],
          "name": "stdout"
        }
      ]
    },
    {
      "cell_type": "code",
      "metadata": {
        "id": "xTHg05ZfD4q2",
        "colab_type": "code",
        "colab": {
          "base_uri": "https://localhost:8080/",
          "height": 102
        },
        "outputId": "9b0c4f7d-05f7-40c1-c62f-2da691e24202"
      },
      "source": [
        "!lsb_release -a"
      ],
      "execution_count": 9,
      "outputs": [
        {
          "output_type": "stream",
          "text": [
            "No LSB modules are available.\n",
            "Distributor ID:\tUbuntu\n",
            "Description:\tUbuntu 18.04.3 LTS\n",
            "Release:\t18.04\n",
            "Codename:\tbionic\n"
          ],
          "name": "stdout"
        }
      ]
    },
    {
      "cell_type": "code",
      "metadata": {
        "id": "8X_RWShuHQ8t",
        "colab_type": "code",
        "colab": {
          "base_uri": "https://localhost:8080/",
          "height": 411
        },
        "outputId": "2f5cede3-d3f5-4d3f-f55b-f7e252fd9b56"
      },
      "source": [
        "!sudo apt-get install unixodbc-dev"
      ],
      "execution_count": 19,
      "outputs": [
        {
          "output_type": "stream",
          "text": [
            "Reading package lists... Done\n",
            "Building dependency tree       \n",
            "Reading state information... Done\n",
            "The following NEW packages will be installed:\n",
            "  unixodbc-dev\n",
            "0 upgraded, 1 newly installed, 0 to remove and 35 not upgraded.\n",
            "Need to get 37.1 kB of archives.\n",
            "After this operation, 1,739 kB of additional disk space will be used.\n",
            "Get:1 https://packages.microsoft.com/ubuntu/18.04/prod bionic/main amd64 unixodbc-dev amd64 2.3.7 [37.1 kB]\n",
            "Fetched 37.1 kB in 0s (645 kB/s)\n",
            "debconf: unable to initialize frontend: Dialog\n",
            "debconf: (No usable dialog-like program is installed, so the dialog based frontend cannot be used. at /usr/share/perl5/Debconf/FrontEnd/Dialog.pm line 76, <> line 1.)\n",
            "debconf: falling back to frontend: Readline\n",
            "debconf: unable to initialize frontend: Readline\n",
            "debconf: (This frontend requires a controlling tty.)\n",
            "debconf: falling back to frontend: Teletype\n",
            "dpkg-preconfigure: unable to re-open stdin: \n",
            "Selecting previously unselected package unixodbc-dev.\n",
            "(Reading database ... 144423 files and directories currently installed.)\n",
            "Preparing to unpack .../unixodbc-dev_2.3.7_amd64.deb ...\n",
            "Unpacking unixodbc-dev (2.3.7) ...\n",
            "Setting up unixodbc-dev (2.3.7) ...\n"
          ],
          "name": "stdout"
        }
      ]
    },
    {
      "cell_type": "code",
      "metadata": {
        "id": "LP5oA4E99FCT",
        "colab_type": "code",
        "outputId": "e0c76b46-02aa-4f12-e7d3-c366b7df4763",
        "colab": {
          "base_uri": "https://localhost:8080/",
          "height": 190
        }
      },
      "source": [
        "!pip install pyodbc\n"
      ],
      "execution_count": 20,
      "outputs": [
        {
          "output_type": "stream",
          "text": [
            "Collecting pyodbc\n",
            "  Using cached https://files.pythonhosted.org/packages/81/0d/bb08bb16c97765244791c73e49de9fd4c24bb3ef00313aed82e5640dee5d/pyodbc-4.0.30.tar.gz\n",
            "Building wheels for collected packages: pyodbc\n",
            "  Building wheel for pyodbc (setup.py) ... \u001b[?25l\u001b[?25hdone\n",
            "  Created wheel for pyodbc: filename=pyodbc-4.0.30-cp36-cp36m-linux_x86_64.whl size=272713 sha256=af092915cd4327c823207c540705413d6ccafd676145bacd1135b0e48c93a604\n",
            "  Stored in directory: /root/.cache/pip/wheels/4a/02/ba/6b495fec7cb127583a769a74f3ba91eb700d73e25fbb5ba09b\n",
            "Successfully built pyodbc\n",
            "Installing collected packages: pyodbc\n",
            "Successfully installed pyodbc-4.0.30\n"
          ],
          "name": "stdout"
        }
      ]
    },
    {
      "cell_type": "markdown",
      "metadata": {
        "id": "WBxsvL_EXLLp",
        "colab_type": "text"
      },
      "source": [
        "## Importações e configurações gerais"
      ]
    },
    {
      "cell_type": "code",
      "metadata": {
        "id": "faBpdp-doTAX",
        "colab_type": "code",
        "colab": {}
      },
      "source": [
        "import pandas as pd\n",
        "import numpy as np\n",
        "\n",
        "import matplotlib.pyplot as plt\n",
        "import matplotlib.patches as mpatches\n",
        "import seaborn as sns\n",
        "import matplotlib.dates as mdates\n",
        "\n",
        "from datetime import datetime\n",
        "import datetime\n",
        "from datetime import timedelta\n",
        "\n",
        "import random\n",
        "\n",
        "from mlxtend.plotting import ecdf\n",
        "import powerlaw\n",
        "\n",
        "from sklearn import metrics\n",
        "import itertools\n"
      ],
      "execution_count": 0,
      "outputs": []
    },
    {
      "cell_type": "code",
      "metadata": {
        "id": "ZqY8Ze5U8b8R",
        "colab_type": "code",
        "colab": {}
      },
      "source": [
        "def setSeabornStyle(style='Default'):\n",
        "    if (style == 'Dark'):\n",
        "        #sns.set(style=\"ticks\", palette='dark')\n",
        "        sns.set(style=\"ticks\")\n",
        "        sns.set_palette(sns.xkcd_palette([\"windows blue\"])+sns.color_palette('Set2', 4)+sns.xkcd_palette([\"amber\", \"greyish\", \"faded green\", \"dusty purple\"]))\n",
        "    else:\n",
        "        #sns.set(style=\"ticks\", palette='Pastel1')\n",
        "        sns.set(style=\"ticks\")\n",
        "        sns.set_palette(sns.color_palette([\"#A576B6\", \"#58A7DC\"])+sns.color_palette('Set2', 8))"
      ],
      "execution_count": 0,
      "outputs": []
    },
    {
      "cell_type": "code",
      "metadata": {
        "id": "CYy05t4b8f19",
        "colab_type": "code",
        "colab": {}
      },
      "source": [
        "def fitDistribution(x1, x_min=None):\n",
        "    if (x_min != None):\n",
        "        fit = powerlaw.Fit(np.array(x1), discrete=True, xmin=x_min)\n",
        "    else:\n",
        "        fit = powerlaw.Fit(np.array(x1), discrete=True)\n",
        "    fit.power_law.alpha\n",
        "    fit.power_law.sigma\n",
        "\n",
        "    #para ver as distribuições possíveis\n",
        "    #fit.supported_distributions\n",
        "    distributions = ['exponential','lognormal','lognormal_positive','stretched_exponential','truncated_power_law']\n",
        "\n",
        "\n",
        "    for dist in distributions:\n",
        "        t = fit.distribution_compare('power_law', dist, normalized_ratio=True)\n",
        "        print(\"({2}, {0:12.12f}, {1:12.12f})\".format(t[0], t[1], dist))\n",
        "        \n",
        "    return fit;"
      ],
      "execution_count": 0,
      "outputs": []
    },
    {
      "cell_type": "code",
      "metadata": {
        "id": "J_EU60_P8lC-",
        "colab_type": "code",
        "colab": {}
      },
      "source": [
        "#import sys\n",
        "#print(sys.version)\n",
        "\n",
        "pd.set_option('display.max_columns', 500)\n",
        "pd.options.display.float_format = '{:20,.2f}'.format\n",
        "\n",
        "np.set_printoptions(suppress=True)\n",
        "\n",
        "\n",
        "\n",
        "contrastColorPallete = ['#998ec3', '#f1a340', '#f7f7f7']\n",
        "paleta = sns.color_palette(\"Pastel1\", 20)\n",
        "setSeabornStyle()\n",
        "\n",
        "size_p = 4\n",
        "size_g = 8\n",
        "size_xg = 12\n",
        "size_xxg = 16\n",
        "\n",
        "line_size=0.4\n",
        "\n",
        "pd.set_option('display.max_columns', 500)\n"
      ],
      "execution_count": 0,
      "outputs": []
    },
    {
      "cell_type": "markdown",
      "metadata": {
        "id": "dNcaxcNlXSiP",
        "colab_type": "text"
      },
      "source": [
        "## Acesso ao banco de dados"
      ]
    },
    {
      "cell_type": "code",
      "metadata": {
        "id": "YnCHL8NY8rJx",
        "colab_type": "code",
        "colab": {}
      },
      "source": [
        "\n",
        "import pyodbc\n",
        "import json\n",
        "\n",
        "\n",
        "with open('/content/drive/My Drive/Colab Notebooks/sql_credentials.json') as f:\n",
        "    data = json.load(f)\n",
        "    username = data['userName']\n",
        "    password = data['userPassword']\n",
        "    server = data['server']\n",
        "    database = \"db_strava\"\n",
        "\n",
        "\n",
        "driver= '{ODBC Driver 17 for SQL Server}'\n",
        "conn = pyodbc.connect('DRIVER='+driver+';SERVER='+server+';PORT=1433;DATABASE='+database+';UID='+username+';PWD='+ password)\n",
        "    \n"
      ],
      "execution_count": 0,
      "outputs": []
    },
    {
      "cell_type": "code",
      "metadata": {
        "id": "hHgVxz8ZLn-h",
        "colab_type": "code",
        "colab": {}
      },
      "source": [
        "query = \"\"\"\n",
        "select (select count(*)\n",
        "        from community_membership c where c.community = ac.community and c.algorithm = ac.algorithm\n",
        "        group by community, algorithm) as size,\n",
        "       algorithm, community\n",
        "from answer_community ac\n",
        "\"\"\"\n",
        "\n",
        "df = pd.read_sql(query, conn)\n",
        "\n"
      ],
      "execution_count": 0,
      "outputs": []
    },
    {
      "cell_type": "code",
      "metadata": {
        "id": "Xozgiy4iMBbj",
        "colab_type": "code",
        "colab": {
          "base_uri": "https://localhost:8080/",
          "height": 535
        },
        "outputId": "11400583-1ffe-41c0-ccdb-ae8a5e87b4cc"
      },
      "source": [
        "setSeabornStyle('Dark')\n",
        "plt.figure(figsize=(14,8))\n",
        "plt.subplots_adjust(hspace=0.4)\n",
        "plt.subplots_adjust(wspace=0.4)\n",
        "\n",
        "#plt.subplot(1,1,1)\n",
        "\n",
        "\n",
        "df['answers'] = 0\n",
        "df['size'] = (df['size']/100).astype(int)\n",
        "df['size'] = (df['size'] * 100).astype(int)\n",
        "df = df.groupby(['community','size', 'algorithm'], as_index = False).count()\n",
        "#arredonda por centenas\n",
        "#t['size'] = t['size']/100\n",
        "df = df.groupby(['answers','size', 'algorithm'], as_index = False).count()\n",
        "df.rename(inplace=True, columns={\"size\": \"tamanho\"})\n",
        "df.rename(inplace=True, columns={\"answers\": \"respostas\"})\n",
        "df.rename(inplace=True, columns={\"community\": \"comunidades\"})\n",
        "df.rename(inplace=True, columns={\"algorithm\": \"algoritmo\"})\n",
        "\n",
        "\n",
        "g = sns.scatterplot(x=\"comunidades\", y=\"respostas\", hue=\"algoritmo\", style=\"algoritmo\", size='tamanho', data=df, linewidth=line_size)\n",
        "#g.set(yscale='log')\n",
        "#g.set(xscale='log')\n",
        "g.set_ylabel('Quantidade de respostas')\n",
        "g.set_xlabel('Quantidade de comunidades')\n",
        "\n",
        "\n",
        "plt.title('distribuição das respostas por comunidade')\n",
        "\n",
        "#t = None"
      ],
      "execution_count": 33,
      "outputs": [
        {
          "output_type": "execute_result",
          "data": {
            "text/plain": [
              "Text(0.5, 1.0, 'distribuição das respostas por comunidade')"
            ]
          },
          "metadata": {
            "tags": []
          },
          "execution_count": 33
        },
        {
          "output_type": "display_data",
          "data": {
            "image/png": "[encoded data removed]",
            "text/plain": [
              "<Figure size 1008x576 with 1 Axes>"
            ]
          },
          "metadata": {
            "tags": []
          }
        }
      ]
    },
    {
      "cell_type": "markdown",
      "metadata": {
        "id": "bmKvbx5xMMEd",
        "colab_type": "text"
      },
      "source": [
        "### Comunidades com pelo menos 3 respostas"
      ]
    },
    {
      "cell_type": "code",
      "metadata": {
        "id": "ovTMaNgfMD8c",
        "colab_type": "code",
        "colab": {
          "base_uri": "https://localhost:8080/",
          "height": 173
        },
        "outputId": "1bdac626-9dfc-4a3c-8fb3-fb5a0f56b697"
      },
      "source": [
        "df[df['respostas'] > 2].groupby(['algoritmo', 'respostas'], as_index = False).count().rename(inplace=False, columns={\"tamanho\": \"quantidade\"})\n"
      ],
      "execution_count": 34,
      "outputs": [
        {
          "output_type": "execute_result",
          "data": {
            "text/html": [
              "<div>\n",
              "<style scoped>\n",
              "    .dataframe tbody tr th:only-of-type {\n",
              "        vertical-align: middle;\n",
              "    }\n",
              "\n",
              "    .dataframe tbody tr th {\n",
              "        vertical-align: top;\n",
              "    }\n",
              "\n",
              "    .dataframe thead th {\n",
              "        text-align: right;\n",
              "    }\n",
              "</style>\n",
              "<table border=\"1\" class=\"dataframe\">\n",
              "  <thead>\n",
              "    <tr style=\"text-align: right;\">\n",
              "      <th></th>\n",
              "      <th>algoritmo</th>\n",
              "      <th>respostas</th>\n",
              "      <th>quantidade</th>\n",
              "      <th>comunidades</th>\n",
              "    </tr>\n",
              "  </thead>\n",
              "  <tbody>\n",
              "    <tr>\n",
              "      <th>0</th>\n",
              "      <td>IM</td>\n",
              "      <td>3</td>\n",
              "      <td>3</td>\n",
              "      <td>3</td>\n",
              "    </tr>\n",
              "    <tr>\n",
              "      <th>1</th>\n",
              "      <td>IM</td>\n",
              "      <td>5</td>\n",
              "      <td>1</td>\n",
              "      <td>1</td>\n",
              "    </tr>\n",
              "    <tr>\n",
              "      <th>2</th>\n",
              "      <td>LP</td>\n",
              "      <td>3</td>\n",
              "      <td>2</td>\n",
              "      <td>2</td>\n",
              "    </tr>\n",
              "    <tr>\n",
              "      <th>3</th>\n",
              "      <td>LP</td>\n",
              "      <td>5</td>\n",
              "      <td>2</td>\n",
              "      <td>2</td>\n",
              "    </tr>\n",
              "  </tbody>\n",
              "</table>\n",
              "</div>"
            ],
            "text/plain": [
              "  algoritmo  respostas  quantidade  comunidades\n",
              "0        IM          3           3            3\n",
              "1        IM          5           1            1\n",
              "2        LP          3           2            2\n",
              "3        LP          5           2            2"
            ]
          },
          "metadata": {
            "tags": []
          },
          "execution_count": 34
        }
      ]
    },
    {
      "cell_type": "code",
      "metadata": {
        "id": "8zZPNiBnMUn0",
        "colab_type": "code",
        "colab": {
          "base_uri": "https://localhost:8080/",
          "height": 297
        },
        "outputId": "cbd8c9d7-696f-4864-d981-312a3a5e5a0f"
      },
      "source": [
        "df = pd.read_sql(query, conn)\n",
        "df['qtd'] = 0\n",
        "df = df.groupby(['size', 'algorithm', 'community'], as_index = False).count()\n",
        "df[df['qtd'] > 2]"
      ],
      "execution_count": 35,
      "outputs": [
        {
          "output_type": "execute_result",
          "data": {
            "text/html": [
              "<div>\n",
              "<style scoped>\n",
              "    .dataframe tbody tr th:only-of-type {\n",
              "        vertical-align: middle;\n",
              "    }\n",
              "\n",
              "    .dataframe tbody tr th {\n",
              "        vertical-align: top;\n",
              "    }\n",
              "\n",
              "    .dataframe thead th {\n",
              "        text-align: right;\n",
              "    }\n",
              "</style>\n",
              "<table border=\"1\" class=\"dataframe\">\n",
              "  <thead>\n",
              "    <tr style=\"text-align: right;\">\n",
              "      <th></th>\n",
              "      <th>size</th>\n",
              "      <th>algorithm</th>\n",
              "      <th>community</th>\n",
              "      <th>qtd</th>\n",
              "    </tr>\n",
              "  </thead>\n",
              "  <tbody>\n",
              "    <tr>\n",
              "      <th>18</th>\n",
              "      <td>17</td>\n",
              "      <td>LP</td>\n",
              "      <td>35</td>\n",
              "      <td>3</td>\n",
              "    </tr>\n",
              "    <tr>\n",
              "      <th>80</th>\n",
              "      <td>157</td>\n",
              "      <td>IM</td>\n",
              "      <td>123</td>\n",
              "      <td>5</td>\n",
              "    </tr>\n",
              "    <tr>\n",
              "      <th>92</th>\n",
              "      <td>196</td>\n",
              "      <td>LP</td>\n",
              "      <td>34</td>\n",
              "      <td>5</td>\n",
              "    </tr>\n",
              "    <tr>\n",
              "      <th>99</th>\n",
              "      <td>341</td>\n",
              "      <td>IM</td>\n",
              "      <td>23</td>\n",
              "      <td>3</td>\n",
              "    </tr>\n",
              "    <tr>\n",
              "      <th>100</th>\n",
              "      <td>396</td>\n",
              "      <td>LP</td>\n",
              "      <td>728</td>\n",
              "      <td>3</td>\n",
              "    </tr>\n",
              "    <tr>\n",
              "      <th>104</th>\n",
              "      <td>588</td>\n",
              "      <td>IM</td>\n",
              "      <td>5</td>\n",
              "      <td>3</td>\n",
              "    </tr>\n",
              "    <tr>\n",
              "      <th>106</th>\n",
              "      <td>653</td>\n",
              "      <td>IM</td>\n",
              "      <td>3</td>\n",
              "      <td>3</td>\n",
              "    </tr>\n",
              "    <tr>\n",
              "      <th>108</th>\n",
              "      <td>1467</td>\n",
              "      <td>LP</td>\n",
              "      <td>242</td>\n",
              "      <td>5</td>\n",
              "    </tr>\n",
              "  </tbody>\n",
              "</table>\n",
              "</div>"
            ],
            "text/plain": [
              "     size algorithm  community  qtd\n",
              "18     17        LP         35    3\n",
              "80    157        IM        123    5\n",
              "92    196        LP         34    5\n",
              "99    341        IM         23    3\n",
              "100   396        LP        728    3\n",
              "104   588        IM          5    3\n",
              "106   653        IM          3    3\n",
              "108  1467        LP        242    5"
            ]
          },
          "metadata": {
            "tags": []
          },
          "execution_count": 35
        }
      ]
    }
  ]
}