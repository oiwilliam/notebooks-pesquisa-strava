{
  "nbformat": 4,
  "nbformat_minor": 0,
  "metadata": {
    "colab": {
      "name": "Respostas Questionario Strava.ipynb",
      "provenance": [],
      "collapsed_sections": [],
      "toc_visible": true,
      "mount_file_id": "1QtM-sSqpjIpuOvpa6ZRNCnMkBFGbOjHc",
      "authorship_tag": "ABX9TyPT5aBShDdPYSt9RoMQg9+W"
    },
    "kernelspec": {
      "name": "python3",
      "display_name": "Python 3"
    }
  },
  "cells": [
    {
      "cell_type": "markdown",
      "metadata": {
        "id": "2EMFfXtkW-WA",
        "colab_type": "text"
      },
      "source": [
        "## Instalando o ambiente necessário"
      ]
    },
    {
      "cell_type": "code",
      "metadata": {
        "id": "1_nG8x-U8ShV",
        "colab_type": "code",
        "colab": {}
      },
      "source": [
        "#@title Instala os pacotes necessários {display-mode: \"form\"}\n",
        "\n",
        "!pip install powerlaw \n",
        "!curl https://packages.microsoft.com/keys/microsoft.asc | apt-key add -\n",
        "!curl https://packages.microsoft.com/config/ubuntu/18.04/prod.list > /etc/apt/sources.list.d/mssql-release.list\n",
        "!apt-get update\n",
        "#!apt-get remove msodbcsql17\n",
        "#!apt autoremove\n",
        "!ACCEPT_EULA=Y apt-get install msodbcsql17\n",
        "!lsb_release -a\n",
        "!sudo apt-get install unixodbc-dev\n",
        "!pip install pyodbc\n",
        "\n"
      ],
      "execution_count": 0,
      "outputs": []
    },
    {
      "cell_type": "markdown",
      "metadata": {
        "id": "WBxsvL_EXLLp",
        "colab_type": "text"
      },
      "source": [
        "## Importações e configurações gerais"
      ]
    },
    {
      "cell_type": "code",
      "metadata": {
        "id": "faBpdp-doTAX",
        "colab_type": "code",
        "colab": {}
      },
      "source": [
        "# @title Importações {display-mode: \"form\"}\n",
        "\n",
        "import pandas as pd\n",
        "import numpy as np\n",
        "\n",
        "import matplotlib.pyplot as plt\n",
        "import matplotlib.patches as mpatches\n",
        "import seaborn as sns\n",
        "import matplotlib.dates as mdates\n",
        "\n",
        "from datetime import datetime\n",
        "import datetime\n",
        "from datetime import timedelta\n",
        "\n",
        "import random\n",
        "\n",
        "from mlxtend.plotting import ecdf\n",
        "import powerlaw\n",
        "\n",
        "from sklearn import metrics\n",
        "import itertools\n"
      ],
      "execution_count": 0,
      "outputs": []
    },
    {
      "cell_type": "code",
      "metadata": {
        "id": "ZqY8Ze5U8b8R",
        "colab_type": "code",
        "colab": {}
      },
      "source": [
        "#@title cria as funções auxiliares {display-mode: \"form\"}\n",
        "\n",
        "def setSeabornStyle(style='Default'):\n",
        "    if (style == 'Dark'):\n",
        "        #sns.set(style=\"ticks\", palette='dark')\n",
        "        sns.set(style=\"ticks\")\n",
        "        sns.set_palette(sns.xkcd_palette([\"windows blue\"])+sns.color_palette('Set2', 4)+sns.xkcd_palette([\"amber\", \"greyish\", \"faded green\", \"dusty purple\"]))\n",
        "    else:\n",
        "        #sns.set(style=\"ticks\", palette='Pastel1')\n",
        "        sns.set(style=\"ticks\")\n",
        "        sns.set_palette(sns.color_palette([\"#A576B6\", \"#58A7DC\"])+sns.color_palette('Set2', 8))\n",
        "\n",
        "def fitDistribution(x1, x_min=None):\n",
        "    if (x_min != None):\n",
        "        fit = powerlaw.Fit(np.array(x1), discrete=True, xmin=x_min)\n",
        "    else:\n",
        "        fit = powerlaw.Fit(np.array(x1), discrete=True)\n",
        "    fit.power_law.alpha\n",
        "    fit.power_law.sigma\n",
        "\n",
        "    #para ver as distribuições possíveis\n",
        "    #fit.supported_distributions\n",
        "    distributions = ['exponential','lognormal','lognormal_positive','stretched_exponential','truncated_power_law']\n",
        "\n",
        "\n",
        "    for dist in distributions:\n",
        "        t = fit.distribution_compare('power_law', dist, normalized_ratio=True)\n",
        "        print(\"({2}, {0:12.12f}, {1:12.12f})\".format(t[0], t[1], dist))\n",
        "        \n",
        "    return fit;\n",
        "\n",
        "    "
      ],
      "execution_count": 0,
      "outputs": []
    },
    {
      "cell_type": "code",
      "metadata": {
        "id": "J_EU60_P8lC-",
        "colab_type": "code",
        "colab": {}
      },
      "source": [
        "# @title configura variaveis do ambiente {display-mode: \"form\"}\n",
        "\n",
        "\n",
        "#import sys\n",
        "#print(sys.version)\n",
        "\n",
        "pd.set_option('display.max_columns', 500)\n",
        "pd.options.display.float_format = '{:20,.2f}'.format\n",
        "\n",
        "np.set_printoptions(suppress=True)\n",
        "\n",
        "\n",
        "\n",
        "contrastColorPallete = ['#998ec3', '#f1a340', '#f7f7f7']\n",
        "paleta = sns.color_palette(\"Pastel1\", 20)\n",
        "setSeabornStyle()\n",
        "\n",
        "size_p = 4\n",
        "size_g = 8\n",
        "size_xg = 12\n",
        "size_xxg = 16\n",
        "\n",
        "line_size=0.4\n",
        "\n",
        "pd.set_option('display.max_columns', 500)\n",
        "\n",
        "%load_ext google.colab.data_table\n"
      ],
      "execution_count": 0,
      "outputs": []
    },
    {
      "cell_type": "markdown",
      "metadata": {
        "id": "dNcaxcNlXSiP",
        "colab_type": "text"
      },
      "source": [
        "## Acesso ao banco de dados"
      ]
    },
    {
      "cell_type": "code",
      "metadata": {
        "id": "YnCHL8NY8rJx",
        "colab_type": "code",
        "colab": {}
      },
      "source": [
        "# @title Conexão com o banco {display-mode: \"form\"}\n",
        "\n",
        "import pyodbc\n",
        "import json\n",
        "\n",
        "\n",
        "with open('/content/drive/My Drive/Colab Notebooks/sql_credentials.json') as f:\n",
        "    data = json.load(f)\n",
        "    username = data['userName']\n",
        "    password = data['userPassword']\n",
        "    server = data['server']\n",
        "    database = \"db_strava\"\n",
        "\n",
        "\n",
        "driver= '{ODBC Driver 17 for SQL Server}'\n",
        "conn = pyodbc.connect('DRIVER='+driver+';SERVER='+server+';PORT=1433;DATABASE='+database+';UID='+username+';PWD='+ password)\n",
        "    \n"
      ],
      "execution_count": 0,
      "outputs": []
    },
    {
      "cell_type": "code",
      "metadata": {
        "id": "hHgVxz8ZLn-h",
        "colab_type": "code",
        "colab": {}
      },
      "source": [
        "# @title Consulta ao banco {display-mode: \"form\"}\n",
        "\n",
        "\n",
        "query = \"\"\"\n",
        "select (select count(*)\n",
        "        from community_membership c where c.community = ac.community and c.algorithm = ac.algorithm\n",
        "        group by community, algorithm) as size,\n",
        "       algorithm, community\n",
        "from answer_community ac\n",
        "\"\"\"\n",
        "\n",
        "df = pd.read_sql(query, conn)\n",
        "\n"
      ],
      "execution_count": 0,
      "outputs": []
    },
    {
      "cell_type": "code",
      "metadata": {
        "id": "Xozgiy4iMBbj",
        "colab_type": "code",
        "outputId": "ce0ea13a-3072-4715-f3af-1fff872327f1",
        "colab": {
          "base_uri": "https://localhost:8080/",
          "height": 535
        }
      },
      "source": [
        "# @title Gera o gráfico {display-mode: \"form\"}\n",
        "\n",
        "setSeabornStyle('Dark')\n",
        "plt.figure(figsize=(14,8))\n",
        "plt.subplots_adjust(hspace=0.4)\n",
        "plt.subplots_adjust(wspace=0.4)\n",
        "\n",
        "#plt.subplot(1,1,1)\n",
        "\n",
        "\n",
        "df['answers'] = 0\n",
        "df['size'] = (df['size']/100).astype(int)\n",
        "df['size'] = (df['size'] * 100).astype(int)\n",
        "df = df.groupby(['community','size', 'algorithm'], as_index = False).count()\n",
        "#arredonda por centenas\n",
        "#t['size'] = t['size']/100\n",
        "df = df.groupby(['answers','size', 'algorithm'], as_index = False).count()\n",
        "df.rename(inplace=True, columns={\"size\": \"tamanho\"})\n",
        "df.rename(inplace=True, columns={\"answers\": \"respostas\"})\n",
        "df.rename(inplace=True, columns={\"community\": \"comunidades\"})\n",
        "df.rename(inplace=True, columns={\"algorithm\": \"algoritmo\"})\n",
        "\n",
        "\n",
        "g = sns.scatterplot(x=\"comunidades\", y=\"respostas\", hue=\"algoritmo\", style=\"algoritmo\", size='tamanho', data=df, linewidth=line_size)\n",
        "#g.set(yscale='log')\n",
        "#g.set(xscale='log')\n",
        "g.set_ylabel('Quantidade de respostas')\n",
        "g.set_xlabel('Quantidade de comunidades')\n",
        "\n",
        "\n",
        "plt.title('distribuição das respostas por comunidade')\n",
        "\n",
        "#t = None"
      ],
      "execution_count": 16,
      "outputs": [
        {
          "output_type": "execute_result",
          "data": {
            "text/plain": [
              "Text(0.5, 1.0, 'distribuição das respostas por comunidade')"
            ]
          },
          "metadata": {
            "tags": []
          },
          "execution_count": 16
        },
        {
          "output_type": "display_data",
          "data": {
            "image/png": "[encoded data removed]",
            "text/plain": [
              "<Figure size 1008x576 with 1 Axes>"
            ]
          },
          "metadata": {
            "tags": []
          }
        }
      ]
    },
    {
      "cell_type": "markdown",
      "metadata": {
        "id": "bmKvbx5xMMEd",
        "colab_type": "text"
      },
      "source": [
        "### Comunidades com pelo menos 3 respostas"
      ]
    },
    {
      "cell_type": "code",
      "metadata": {
        "id": "ovTMaNgfMD8c",
        "colab_type": "code",
        "outputId": "3128959a-4bd8-4cde-aa9e-5cc5b9dc6390",
        "colab": {
          "base_uri": "https://localhost:8080/",
          "height": 172
        }
      },
      "source": [
        "# @title Quantas {display-mode: \"form\"}\n",
        "\n",
        "\n",
        "df[df['respostas'] > 2].groupby(['algoritmo', 'respostas'], as_index = False).count().rename(inplace=False, columns={\"tamanho\": \"quantidade\"})\n"
      ],
      "execution_count": 17,
      "outputs": [
        {
          "output_type": "execute_result",
          "data": {
            "application/vnd.google.colaboratory.module+javascript": "\n      import \"https://ssl.gstatic.com/colaboratory/data_table/a6224c040fa35dcf/data_table.js\";\n\n      window.createDataTable({\n        data: [[{\n            'v': 0,\n            'f': \"0\",\n        },\n\"IM\",\n{\n            'v': 3,\n            'f': \"3\",\n        },\n{\n            'v': 3,\n            'f': \"3\",\n        },\n{\n            'v': 3,\n            'f': \"3\",\n        }],\n [{\n            'v': 1,\n            'f': \"1\",\n        },\n\"IM\",\n{\n            'v': 5,\n            'f': \"5\",\n        },\n{\n            'v': 1,\n            'f': \"1\",\n        },\n{\n            'v': 1,\n            'f': \"1\",\n        }],\n [{\n            'v': 2,\n            'f': \"2\",\n        },\n\"LP\",\n{\n            'v': 3,\n            'f': \"3\",\n        },\n{\n            'v': 2,\n            'f': \"2\",\n        },\n{\n            'v': 2,\n            'f': \"2\",\n        }],\n [{\n            'v': 3,\n            'f': \"3\",\n        },\n\"LP\",\n{\n            'v': 5,\n            'f': \"5\",\n        },\n{\n            'v': 2,\n            'f': \"2\",\n        },\n{\n            'v': 2,\n            'f': \"2\",\n        }]],\n        columns: [[\"number\", \"index\"], [\"string\", \"algoritmo\"], [\"number\", \"respostas\"], [\"number\", \"quantidade\"], [\"number\", \"comunidades\"]],\n        columnOptions: [{\"width\": \"1px\", \"className\": \"index_column\"}],\n        rowsPerPage: 25,\n        helpUrl: \"https://colab.research.google.com/notebooks/data_table.ipynb\",\n        suppressOutputScrolling: true,\n        minimumWidth: undefined,\n      });\n    ",
            "text/html": [
              "<div>\n",
              "<style scoped>\n",
              "    .dataframe tbody tr th:only-of-type {\n",
              "        vertical-align: middle;\n",
              "    }\n",
              "\n",
              "    .dataframe tbody tr th {\n",
              "        vertical-align: top;\n",
              "    }\n",
              "\n",
              "    .dataframe thead th {\n",
              "        text-align: right;\n",
              "    }\n",
              "</style>\n",
              "<table border=\"1\" class=\"dataframe\">\n",
              "  <thead>\n",
              "    <tr style=\"text-align: right;\">\n",
              "      <th></th>\n",
              "      <th>algoritmo</th>\n",
              "      <th>respostas</th>\n",
              "      <th>quantidade</th>\n",
              "      <th>comunidades</th>\n",
              "    </tr>\n",
              "  </thead>\n",
              "  <tbody>\n",
              "    <tr>\n",
              "      <th>0</th>\n",
              "      <td>IM</td>\n",
              "      <td>3</td>\n",
              "      <td>3</td>\n",
              "      <td>3</td>\n",
              "    </tr>\n",
              "    <tr>\n",
              "      <th>1</th>\n",
              "      <td>IM</td>\n",
              "      <td>5</td>\n",
              "      <td>1</td>\n",
              "      <td>1</td>\n",
              "    </tr>\n",
              "    <tr>\n",
              "      <th>2</th>\n",
              "      <td>LP</td>\n",
              "      <td>3</td>\n",
              "      <td>2</td>\n",
              "      <td>2</td>\n",
              "    </tr>\n",
              "    <tr>\n",
              "      <th>3</th>\n",
              "      <td>LP</td>\n",
              "      <td>5</td>\n",
              "      <td>2</td>\n",
              "      <td>2</td>\n",
              "    </tr>\n",
              "  </tbody>\n",
              "</table>\n",
              "</div>"
            ],
            "text/plain": [
              "  algoritmo  respostas  quantidade  comunidades\n",
              "0        IM          3           3            3\n",
              "1        IM          5           1            1\n",
              "2        LP          3           2            2\n",
              "3        LP          5           2            2"
            ]
          },
          "metadata": {
            "tags": []
          },
          "execution_count": 17
        }
      ]
    },
    {
      "cell_type": "code",
      "metadata": {
        "id": "8zZPNiBnMUn0",
        "colab_type": "code",
        "outputId": "8e75072f-9956-4928-9361-654a1d653f31",
        "colab": {
          "base_uri": "https://localhost:8080/",
          "height": 256
        }
      },
      "source": [
        "# @title Quais {display-mode: \"form\"}\n",
        "\n",
        "\n",
        "df = pd.read_sql(query, conn)\n",
        "df['qtd'] = 0\n",
        "df = df.groupby(['size', 'algorithm', 'community'], as_index = False).count()\n",
        "df[df['qtd'] > 2]"
      ],
      "execution_count": 18,
      "outputs": [
        {
          "output_type": "execute_result",
          "data": {
            "application/vnd.google.colaboratory.module+javascript": "\n      import \"https://ssl.gstatic.com/colaboratory/data_table/a6224c040fa35dcf/data_table.js\";\n\n      window.createDataTable({\n        data: [[{\n            'v': 22,\n            'f': \"22\",\n        },\n{\n            'v': 17,\n            'f': \"17\",\n        },\n\"LP\",\n{\n            'v': 35,\n            'f': \"35\",\n        },\n{\n            'v': 3,\n            'f': \"3\",\n        }],\n [{\n            'v': 93,\n            'f': \"93\",\n        },\n{\n            'v': 157,\n            'f': \"157\",\n        },\n\"IM\",\n{\n            'v': 123,\n            'f': \"123\",\n        },\n{\n            'v': 5,\n            'f': \"5\",\n        }],\n [{\n            'v': 107,\n            'f': \"107\",\n        },\n{\n            'v': 196,\n            'f': \"196\",\n        },\n\"LP\",\n{\n            'v': 34,\n            'f': \"34\",\n        },\n{\n            'v': 5,\n            'f': \"5\",\n        }],\n [{\n            'v': 117,\n            'f': \"117\",\n        },\n{\n            'v': 341,\n            'f': \"341\",\n        },\n\"IM\",\n{\n            'v': 23,\n            'f': \"23\",\n        },\n{\n            'v': 3,\n            'f': \"3\",\n        }],\n [{\n            'v': 118,\n            'f': \"118\",\n        },\n{\n            'v': 396,\n            'f': \"396\",\n        },\n\"LP\",\n{\n            'v': 728,\n            'f': \"728\",\n        },\n{\n            'v': 3,\n            'f': \"3\",\n        }],\n [{\n            'v': 122,\n            'f': \"122\",\n        },\n{\n            'v': 588,\n            'f': \"588\",\n        },\n\"IM\",\n{\n            'v': 5,\n            'f': \"5\",\n        },\n{\n            'v': 3,\n            'f': \"3\",\n        }],\n [{\n            'v': 124,\n            'f': \"124\",\n        },\n{\n            'v': 653,\n            'f': \"653\",\n        },\n\"IM\",\n{\n            'v': 3,\n            'f': \"3\",\n        },\n{\n            'v': 3,\n            'f': \"3\",\n        }],\n [{\n            'v': 126,\n            'f': \"126\",\n        },\n{\n            'v': 1467,\n            'f': \"1467\",\n        },\n\"LP\",\n{\n            'v': 242,\n            'f': \"242\",\n        },\n{\n            'v': 5,\n            'f': \"5\",\n        }]],\n        columns: [[\"number\", \"index\"], [\"number\", \"size\"], [\"string\", \"algorithm\"], [\"number\", \"community\"], [\"number\", \"qtd\"]],\n        columnOptions: [{\"width\": \"1px\", \"className\": \"index_column\"}],\n        rowsPerPage: 25,\n        helpUrl: \"https://colab.research.google.com/notebooks/data_table.ipynb\",\n        suppressOutputScrolling: true,\n        minimumWidth: undefined,\n      });\n    ",
            "text/html": [
              "<div>\n",
              "<style scoped>\n",
              "    .dataframe tbody tr th:only-of-type {\n",
              "        vertical-align: middle;\n",
              "    }\n",
              "\n",
              "    .dataframe tbody tr th {\n",
              "        vertical-align: top;\n",
              "    }\n",
              "\n",
              "    .dataframe thead th {\n",
              "        text-align: right;\n",
              "    }\n",
              "</style>\n",
              "<table border=\"1\" class=\"dataframe\">\n",
              "  <thead>\n",
              "    <tr style=\"text-align: right;\">\n",
              "      <th></th>\n",
              "      <th>size</th>\n",
              "      <th>algorithm</th>\n",
              "      <th>community</th>\n",
              "      <th>qtd</th>\n",
              "    </tr>\n",
              "  </thead>\n",
              "  <tbody>\n",
              "    <tr>\n",
              "      <th>22</th>\n",
              "      <td>17</td>\n",
              "      <td>LP</td>\n",
              "      <td>35</td>\n",
              "      <td>3</td>\n",
              "    </tr>\n",
              "    <tr>\n",
              "      <th>93</th>\n",
              "      <td>157</td>\n",
              "      <td>IM</td>\n",
              "      <td>123</td>\n",
              "      <td>5</td>\n",
              "    </tr>\n",
              "    <tr>\n",
              "      <th>107</th>\n",
              "      <td>196</td>\n",
              "      <td>LP</td>\n",
              "      <td>34</td>\n",
              "      <td>5</td>\n",
              "    </tr>\n",
              "    <tr>\n",
              "      <th>117</th>\n",
              "      <td>341</td>\n",
              "      <td>IM</td>\n",
              "      <td>23</td>\n",
              "      <td>3</td>\n",
              "    </tr>\n",
              "    <tr>\n",
              "      <th>118</th>\n",
              "      <td>396</td>\n",
              "      <td>LP</td>\n",
              "      <td>728</td>\n",
              "      <td>3</td>\n",
              "    </tr>\n",
              "    <tr>\n",
              "      <th>122</th>\n",
              "      <td>588</td>\n",
              "      <td>IM</td>\n",
              "      <td>5</td>\n",
              "      <td>3</td>\n",
              "    </tr>\n",
              "    <tr>\n",
              "      <th>124</th>\n",
              "      <td>653</td>\n",
              "      <td>IM</td>\n",
              "      <td>3</td>\n",
              "      <td>3</td>\n",
              "    </tr>\n",
              "    <tr>\n",
              "      <th>126</th>\n",
              "      <td>1467</td>\n",
              "      <td>LP</td>\n",
              "      <td>242</td>\n",
              "      <td>5</td>\n",
              "    </tr>\n",
              "  </tbody>\n",
              "</table>\n",
              "</div>"
            ],
            "text/plain": [
              "     size algorithm  community  qtd\n",
              "22     17        LP         35    3\n",
              "93    157        IM        123    5\n",
              "107   196        LP         34    5\n",
              "117   341        IM         23    3\n",
              "118   396        LP        728    3\n",
              "122   588        IM          5    3\n",
              "124   653        IM          3    3\n",
              "126  1467        LP        242    5"
            ]
          },
          "metadata": {
            "tags": []
          },
          "execution_count": 18
        }
      ]
    }
  ]
}